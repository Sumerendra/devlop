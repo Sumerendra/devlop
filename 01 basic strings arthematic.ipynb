{
 "cells": [
  {
   "cell_type": "code",
   "execution_count": 3,
   "id": "ef54d54c-188a-4cd1-ac2c-d0616ca0088e",
   "metadata": {},
   "outputs": [
    {
     "data": {
      "text/plain": [
       "6"
      ]
     },
     "execution_count": 3,
     "metadata": {},
     "output_type": "execute_result"
    }
   ],
   "source": [
    "3 + 3"
   ]
  },
  {
   "cell_type": "code",
   "execution_count": 4,
   "id": "43e0dcd4-2e3e-493c-a1f7-e9269463aed3",
   "metadata": {},
   "outputs": [
    {
     "data": {
      "text/plain": [
       "4"
      ]
     },
     "execution_count": 4,
     "metadata": {},
     "output_type": "execute_result"
    }
   ],
   "source": [
    "8 - 4"
   ]
  },
  {
   "cell_type": "code",
   "execution_count": 5,
   "id": "05945111-7146-4378-b539-a2b58a881180",
   "metadata": {},
   "outputs": [
    {
     "data": {
      "text/plain": [
       "8"
      ]
     },
     "execution_count": 5,
     "metadata": {},
     "output_type": "execute_result"
    }
   ],
   "source": [
    "2 * 4"
   ]
  },
  {
   "cell_type": "code",
   "execution_count": 6,
   "id": "c6706949-32a7-482c-a110-696ca25e2f26",
   "metadata": {},
   "outputs": [
    {
     "data": {
      "text/plain": [
       "2.0"
      ]
     },
     "execution_count": 6,
     "metadata": {},
     "output_type": "execute_result"
    }
   ],
   "source": [
    "8 / 4"
   ]
  },
  {
   "cell_type": "code",
   "execution_count": 7,
   "id": "3d8add77-ba00-4e46-b468-1c0d0d9794e3",
   "metadata": {},
   "outputs": [
    {
     "data": {
      "text/plain": [
       "0.5"
      ]
     },
     "execution_count": 7,
     "metadata": {},
     "output_type": "execute_result"
    }
   ],
   "source": [
    "1/2"
   ]
  },
  {
   "cell_type": "code",
   "execution_count": 8,
   "id": "e552206f-d78b-433e-9689-e5d546a89a5d",
   "metadata": {},
   "outputs": [
    {
     "data": {
      "text/plain": [
       "5"
      ]
     },
     "execution_count": 8,
     "metadata": {},
     "output_type": "execute_result"
    }
   ],
   "source": [
    "x = 2\n",
    "x + 3"
   ]
  },
  {
   "cell_type": "code",
   "execution_count": 13,
   "id": "27526d9d-c9c8-441f-954a-45bf1669fb67",
   "metadata": {},
   "outputs": [],
   "source": [
    "y = 4"
   ]
  },
  {
   "cell_type": "code",
   "execution_count": 9,
   "id": "5654c5fd-f671-44b7-977a-30ed09f30aec",
   "metadata": {},
   "outputs": [
    {
     "data": {
      "text/plain": [
       "4"
      ]
     },
     "execution_count": 9,
     "metadata": {},
     "output_type": "execute_result"
    }
   ],
   "source": [
    "x * 2"
   ]
  },
  {
   "cell_type": "code",
   "execution_count": 10,
   "id": "c40d3de7-5534-4ce0-a315-294ad40ec780",
   "metadata": {},
   "outputs": [
    {
     "data": {
      "text/plain": [
       "0.5"
      ]
     },
     "execution_count": 10,
     "metadata": {},
     "output_type": "execute_result"
    }
   ],
   "source": [
    "x/4"
   ]
  },
  {
   "cell_type": "code",
   "execution_count": 11,
   "id": "10ae6718-ec47-4462-9386-f27b275f04e2",
   "metadata": {},
   "outputs": [
    {
     "data": {
      "text/plain": [
       "1"
      ]
     },
     "execution_count": 11,
     "metadata": {},
     "output_type": "execute_result"
    }
   ],
   "source": [
    "x-1"
   ]
  },
  {
   "cell_type": "code",
   "execution_count": 14,
   "id": "8d979f44-86a0-459d-8847-d12d9f6bb015",
   "metadata": {},
   "outputs": [
    {
     "data": {
      "text/plain": [
       "6"
      ]
     },
     "execution_count": 14,
     "metadata": {},
     "output_type": "execute_result"
    }
   ],
   "source": [
    "x + y"
   ]
  },
  {
   "cell_type": "code",
   "execution_count": 15,
   "id": "126fa852-12e3-430f-9f95-e3629b0fff28",
   "metadata": {},
   "outputs": [
    {
     "data": {
      "text/plain": [
       "2"
      ]
     },
     "execution_count": 15,
     "metadata": {},
     "output_type": "execute_result"
    }
   ],
   "source": [
    "y-x"
   ]
  },
  {
   "cell_type": "code",
   "execution_count": 16,
   "id": "ad965684-b00f-46ce-8e61-836e831981db",
   "metadata": {},
   "outputs": [
    {
     "name": "stdout",
     "output_type": "stream",
     "text": [
      "hello\n"
     ]
    }
   ],
   "source": [
    "print('hello')"
   ]
  },
  {
   "cell_type": "code",
   "execution_count": 23,
   "id": "555cf801-54e1-4baf-885e-9ee711090075",
   "metadata": {},
   "outputs": [],
   "source": [
    "a = 'I am learning '"
   ]
  },
  {
   "cell_type": "code",
   "execution_count": 20,
   "id": "fc5e1430-9344-4e0c-b3c2-68946c7b0a00",
   "metadata": {},
   "outputs": [
    {
     "name": "stdout",
     "output_type": "stream",
     "text": [
      "I am learning\n"
     ]
    }
   ],
   "source": [
    "print(a)"
   ]
  },
  {
   "cell_type": "code",
   "execution_count": 21,
   "id": "400f85f8-49f4-4e5a-80a6-68b0bbedad18",
   "metadata": {},
   "outputs": [],
   "source": [
    "b = 'Python'"
   ]
  },
  {
   "cell_type": "code",
   "execution_count": 25,
   "id": "5e313cdc-18de-4c8c-b330-489d7e2c3518",
   "metadata": {},
   "outputs": [
    {
     "name": "stdout",
     "output_type": "stream",
     "text": [
      "Today I am learning Python\n"
     ]
    }
   ],
   "source": [
    "print('Today ' + a+ b)"
   ]
  },
  {
   "cell_type": "code",
   "execution_count": 29,
   "id": "bf72a8fc-f8a8-49aa-9e47-73c3f1c1253a",
   "metadata": {},
   "outputs": [
    {
     "data": {
      "text/plain": [
       "str"
      ]
     },
     "execution_count": 29,
     "metadata": {},
     "output_type": "execute_result"
    }
   ],
   "source": [
    "type('today ' + '3')"
   ]
  },
  {
   "cell_type": "code",
   "execution_count": null,
   "id": "929869db-9723-4776-ba73-5272a574e1fa",
   "metadata": {},
   "outputs": [],
   "source": []
  }
 ],
 "metadata": {
  "kernelspec": {
   "display_name": "Python 3",
   "language": "python",
   "name": "python3"
  },
  "language_info": {
   "codemirror_mode": {
    "name": "ipython",
    "version": 3
   },
   "file_extension": ".py",
   "mimetype": "text/x-python",
   "name": "python",
   "nbconvert_exporter": "python",
   "pygments_lexer": "ipython3",
   "version": "3.9.1"
  }
 },
 "nbformat": 4,
 "nbformat_minor": 5
}
