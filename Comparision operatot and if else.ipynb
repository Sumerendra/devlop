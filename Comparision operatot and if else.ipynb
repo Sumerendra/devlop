{
 "cells": [
  {
   "cell_type": "code",
   "execution_count": null,
   "id": "239a402b-baf1-492b-b814-051954174579",
   "metadata": {},
   "outputs": [],
   "source": [
    "#Comparision operaters (Boolean)\n",
    "# == , > , <, in , not in"
   ]
  },
  {
   "cell_type": "code",
   "execution_count": 1,
   "id": "bec215e7-1e41-4ae9-ade1-93ddc15d3516",
   "metadata": {},
   "outputs": [
    {
     "data": {
      "text/plain": [
       "True"
      ]
     },
     "execution_count": 1,
     "metadata": {},
     "output_type": "execute_result"
    }
   ],
   "source": [
    "2 == 2"
   ]
  },
  {
   "cell_type": "code",
   "execution_count": 4,
   "id": "55ac7977-2ad9-4b67-bf42-f2c2a84b5fa9",
   "metadata": {},
   "outputs": [
    {
     "data": {
      "text/plain": [
       "False"
      ]
     },
     "execution_count": 4,
     "metadata": {},
     "output_type": "execute_result"
    }
   ],
   "source": [
    "3 == 8"
   ]
  },
  {
   "cell_type": "code",
   "execution_count": 7,
   "id": "bf791643-80f7-4fe4-91d7-a64a06592db8",
   "metadata": {},
   "outputs": [
    {
     "data": {
      "text/plain": [
       "True"
      ]
     },
     "execution_count": 7,
     "metadata": {},
     "output_type": "execute_result"
    }
   ],
   "source": [
    "\"Manali\" == \"Manali\""
   ]
  },
  {
   "cell_type": "code",
   "execution_count": 10,
   "id": "af080c91-327e-4dea-a399-6d26f938a984",
   "metadata": {},
   "outputs": [
    {
     "data": {
      "text/plain": [
       "True"
      ]
     },
     "execution_count": 10,
     "metadata": {},
     "output_type": "execute_result"
    }
   ],
   "source": [
    "5 < 8"
   ]
  },
  {
   "cell_type": "code",
   "execution_count": 16,
   "id": "6eb406fe-9170-4f91-bb2f-76752e869ccc",
   "metadata": {},
   "outputs": [
    {
     "data": {
      "text/plain": [
       "True"
      ]
     },
     "execution_count": 16,
     "metadata": {},
     "output_type": "execute_result"
    }
   ],
   "source": [
    "\"B\" not in \"Manali\""
   ]
  },
  {
   "cell_type": "code",
   "execution_count": null,
   "id": "d424eef9-0549-4ab2-a1fa-bd63938214bf",
   "metadata": {},
   "outputs": [],
   "source": [
    "#If else"
   ]
  },
  {
   "cell_type": "code",
   "execution_count": 18,
   "id": "f823747f-5b61-4df9-9dc4-28738bc9b044",
   "metadata": {},
   "outputs": [
    {
     "name": "stdout",
     "output_type": "stream",
     "text": [
      "number1 is higher\n"
     ]
    }
   ],
   "source": [
    "number1 = 25\n",
    "number2 = 20\n",
    "if number1> number2:\n",
    "    print('number1 is higher')\n",
    "else:\n",
    "    print('number2 is higher')"
   ]
  },
  {
   "cell_type": "code",
   "execution_count": 21,
   "id": "d20d643a-68fb-4f63-b6d6-b1709e603886",
   "metadata": {},
   "outputs": [
    {
     "name": "stdin",
     "output_type": "stream",
     "text": [
      "Enter brothers age - 10\n",
      "Enter sisters age -  10\n"
     ]
    },
    {
     "name": "stdout",
     "output_type": "stream",
     "text": [
      "Twins\n"
     ]
    }
   ],
   "source": [
    "brother_age= input('Enter brothers age -')\n",
    "sister_age= input('Enter sisters age - ')\n",
    "if brother_age > sister_age:\n",
    "    print('Brother is elder')\n",
    "elif brother_age == sister_age:\n",
    "    print('Twins')\n",
    "else:\n",
    "    print('Sister is elder')"
   ]
  },
  {
   "cell_type": "code",
   "execution_count": null,
   "id": "cdc7e039-de17-441d-a8aa-ab8ed6a823ae",
   "metadata": {},
   "outputs": [],
   "source": []
  },
  {
   "cell_type": "code",
   "execution_count": null,
   "id": "164d3c2d-c20c-4c14-b7ca-2936fd3d37c5",
   "metadata": {},
   "outputs": [],
   "source": []
  },
  {
   "cell_type": "code",
   "execution_count": null,
   "id": "e5a88ce8-1193-44a1-8610-66fcbb7b669b",
   "metadata": {},
   "outputs": [],
   "source": []
  }
 ],
 "metadata": {
  "kernelspec": {
   "display_name": "Python 3",
   "language": "python",
   "name": "python3"
  },
  "language_info": {
   "codemirror_mode": {
    "name": "ipython",
    "version": 3
   },
   "file_extension": ".py",
   "mimetype": "text/x-python",
   "name": "python",
   "nbconvert_exporter": "python",
   "pygments_lexer": "ipython3",
   "version": "3.9.1"
  }
 },
 "nbformat": 4,
 "nbformat_minor": 5
}
