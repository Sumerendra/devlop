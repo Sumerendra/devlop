{
 "cells": [
  {
   "cell_type": "code",
   "execution_count": 8,
   "id": "3750f5e8-8886-4636-838c-8f10441871c8",
   "metadata": {},
   "outputs": [],
   "source": [
    "#for loop\n",
    "a = ['Red','Green','Yellow','Purple']"
   ]
  },
  {
   "cell_type": "code",
   "execution_count": 10,
   "id": "ff35e9a6-b4f8-47fa-90fb-073a61fe5ab8",
   "metadata": {},
   "outputs": [
    {
     "name": "stdout",
     "output_type": "stream",
     "text": [
      "Red\n",
      "Green\n",
      "Yellow\n",
      "Purple\n"
     ]
    }
   ],
   "source": [
    "print(a[0])\n",
    "print(a[1])\n",
    "print(a[2])\n",
    "print(a[3])"
   ]
  },
  {
   "cell_type": "code",
   "execution_count": 12,
   "id": "670a4778-05a5-4871-bd39-4f100cf17c39",
   "metadata": {},
   "outputs": [
    {
     "name": "stdout",
     "output_type": "stream",
     "text": [
      "Red\n",
      "Green\n",
      "Yellow\n",
      "Purple\n"
     ]
    }
   ],
   "source": [
    "for elements1 in a:\n",
    "    print(elements1)"
   ]
  },
  {
   "cell_type": "code",
   "execution_count": 2,
   "id": "e9abcacb-339c-4328-8611-e944fad1f10c",
   "metadata": {},
   "outputs": [
    {
     "name": "stdout",
     "output_type": "stream",
     "text": [
      "1\n",
      "2\n",
      "3\n",
      "4\n",
      "5\n"
     ]
    }
   ],
   "source": [
    "b = list(range(1, 6))\n",
    "for i in b:\n",
    "    print(i)"
   ]
  },
  {
   "cell_type": "code",
   "execution_count": 3,
   "id": "2ef32321-9b7b-4581-a41a-54c9df5c059d",
   "metadata": {},
   "outputs": [
    {
     "name": "stdout",
     "output_type": "stream",
     "text": [
      "10\n"
     ]
    }
   ],
   "source": [
    "total = 0\n",
    "c = list(range(1, 5))\n",
    "for i in c:\n",
    "    total = total + i # 0 + 1 = 1, 1 + 2 = 3\n",
    "print(total)"
   ]
  },
  {
   "cell_type": "code",
   "execution_count": 25,
   "id": "b93480de-5d3f-4a24-bcbd-b9c68e1b1de0",
   "metadata": {},
   "outputs": [
    {
     "name": "stdout",
     "output_type": "stream",
     "text": [
      "5\n",
      "10\n",
      "15\n"
     ]
    }
   ],
   "source": [
    "total1=0\n",
    "d = list(range(1, 11))\n",
    "for i in d:\n",
    "    if i % 5==0:\n",
    "        print(i)\n",
    "        total1 = total1 +  i \n",
    "print(total1)"
   ]
  },
  {
   "cell_type": "code",
   "execution_count": 24,
   "id": "1c7eee21-9a8e-458c-9f9e-da089bad435a",
   "metadata": {},
   "outputs": [
    {
     "data": {
      "text/plain": [
       "0"
      ]
     },
     "execution_count": 24,
     "metadata": {},
     "output_type": "execute_result"
    }
   ],
   "source": [
    "10 % 5"
   ]
  },
  {
   "cell_type": "code",
   "execution_count": null,
   "id": "57dda9d3-2340-442f-af8c-b6be4e10c4a6",
   "metadata": {},
   "outputs": [],
   "source": []
  }
 ],
 "metadata": {
  "kernelspec": {
   "display_name": "Python 3",
   "language": "python",
   "name": "python3"
  },
  "language_info": {
   "codemirror_mode": {
    "name": "ipython",
    "version": 3
   },
   "file_extension": ".py",
   "mimetype": "text/x-python",
   "name": "python",
   "nbconvert_exporter": "python",
   "pygments_lexer": "ipython3",
   "version": "3.9.1"
  }
 },
 "nbformat": 4,
 "nbformat_minor": 5
}
