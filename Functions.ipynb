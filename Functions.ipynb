{
 "cells": [
  {
   "cell_type": "code",
   "execution_count": null,
   "id": "cd6affe2-69a9-4ce0-8701-79894b9994eb",
   "metadata": {},
   "outputs": [],
   "source": [
    "#Functions"
   ]
  },
  {
   "cell_type": "code",
   "execution_count": 4,
   "id": "be9c345b-97ed-4c07-ac8f-50fd6f66a358",
   "metadata": {},
   "outputs": [
    {
     "name": "stdout",
     "output_type": "stream",
     "text": [
      "Outside the function\n"
     ]
    }
   ],
   "source": [
    "def function1():\n",
    "    print('This is first line')\n",
    "    print('This is the second line')\n",
    "    \n",
    "print('Outside the function')"
   ]
  },
  {
   "cell_type": "code",
   "execution_count": 5,
   "id": "22402e2d-b269-42ff-a3ec-3aae3047e0ab",
   "metadata": {},
   "outputs": [
    {
     "name": "stdout",
     "output_type": "stream",
     "text": [
      "This is first line\n",
      "This is the second line\n"
     ]
    }
   ],
   "source": [
    "function1()"
   ]
  },
  {
   "cell_type": "code",
   "execution_count": 6,
   "id": "dc3c2623-03fa-4844-981b-8a1256165346",
   "metadata": {},
   "outputs": [],
   "source": [
    "def add(x):\n",
    "    print(x + 2)"
   ]
  },
  {
   "cell_type": "code",
   "execution_count": 7,
   "id": "7c232710-a404-4d30-b8c6-3cd09871fa8f",
   "metadata": {},
   "outputs": [
    {
     "name": "stdout",
     "output_type": "stream",
     "text": [
      "6\n"
     ]
    }
   ],
   "source": [
    "add(4)"
   ]
  },
  {
   "cell_type": "code",
   "execution_count": 11,
   "id": "99c2c05e-95bc-42be-99c9-6ee1ea9e8e0c",
   "metadata": {},
   "outputs": [],
   "source": [
    "def mult(a):\n",
    "    return(a* 3)"
   ]
  },
  {
   "cell_type": "code",
   "execution_count": 12,
   "id": "09138d2a-54f5-47e0-96b8-b74c3fb85fb3",
   "metadata": {},
   "outputs": [
    {
     "name": "stdout",
     "output_type": "stream",
     "text": [
      "6\n"
     ]
    }
   ],
   "source": [
    "var1 = mult(2)\n",
    "print(var1)"
   ]
  },
  {
   "cell_type": "code",
   "execution_count": 29,
   "id": "6c1d144f-3f81-431a-9ff1-220d84ca05ed",
   "metadata": {},
   "outputs": [],
   "source": [
    "#average bw two numbers\n",
    "def average(a, b):\n",
    "    \"\"\"This function is taking average bw two numbers, this function doesnt do division\"\"\"\n",
    "    average_v = (a+b)/2\n",
    "    return(average_v)"
   ]
  },
  {
   "cell_type": "code",
   "execution_count": 22,
   "id": "2194c895-38b5-4ff7-ad37-e7dbb6f0ce08",
   "metadata": {},
   "outputs": [
    {
     "data": {
      "text/plain": [
       "5.0"
      ]
     },
     "execution_count": 22,
     "metadata": {},
     "output_type": "execute_result"
    }
   ],
   "source": [
    "average(4, 6)"
   ]
  },
  {
   "cell_type": "code",
   "execution_count": 30,
   "id": "93701f47-01af-4142-a2e5-4faf10630057",
   "metadata": {},
   "outputs": [
    {
     "name": "stdout",
     "output_type": "stream",
     "text": [
      "This function is taking average bw two numbers, this function doesnt do division\n"
     ]
    }
   ],
   "source": [
    "print(average.__doc__)"
   ]
  }
 ],
 "metadata": {
  "kernelspec": {
   "display_name": "Python 3",
   "language": "python",
   "name": "python3"
  },
  "language_info": {
   "codemirror_mode": {
    "name": "ipython",
    "version": 3
   },
   "file_extension": ".py",
   "mimetype": "text/x-python",
   "name": "python",
   "nbconvert_exporter": "python",
   "pygments_lexer": "ipython3",
   "version": "3.9.1"
  }
 },
 "nbformat": 4,
 "nbformat_minor": 5
}
