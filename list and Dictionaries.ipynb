{
 "cells": [
  {
   "cell_type": "code",
   "execution_count": 4,
   "id": "de70cd1a-8c25-434d-9e0a-f918d736ca27",
   "metadata": {},
   "outputs": [
    {
     "data": {
      "text/plain": [
       "'Manal'"
      ]
     },
     "execution_count": 4,
     "metadata": {},
     "output_type": "execute_result"
    }
   ],
   "source": [
    "location =\"Manali is beutiful\"\n",
    "location[0:5]"
   ]
  },
  {
   "cell_type": "code",
   "execution_count": 5,
   "id": "1fa2d3c9-53d3-4c74-aefe-7eb26f7661b3",
   "metadata": {},
   "outputs": [
    {
     "name": "stdin",
     "output_type": "stream",
     "text": [
      " 5\n"
     ]
    },
    {
     "data": {
      "text/plain": [
       "'5'"
      ]
     },
     "execution_count": 5,
     "metadata": {},
     "output_type": "execute_result"
    }
   ],
   "source": [
    "input()"
   ]
  },
  {
   "cell_type": "code",
   "execution_count": 8,
   "id": "21f586be-7c77-4de6-99d1-2f725ff14458",
   "metadata": {},
   "outputs": [
    {
     "name": "stdin",
     "output_type": "stream",
     "text": [
      " Whats your name? Sumer\n",
      "Enter your favroute location-  Goa\n"
     ]
    },
    {
     "name": "stdout",
     "output_type": "stream",
     "text": [
      "Sumer likes Goa\n"
     ]
    }
   ],
   "source": [
    "name = input(' Whats your name?')\n",
    "favourate_place = input('Enter your favroute location- ')\n",
    "print(name + ' likes ' + favourate_place)"
   ]
  },
  {
   "cell_type": "code",
   "execution_count": 9,
   "id": "c3a5c94b-01d9-4839-a5c4-fbd972189b60",
   "metadata": {},
   "outputs": [
    {
     "data": {
      "text/plain": [
       "5"
      ]
     },
     "execution_count": 9,
     "metadata": {},
     "output_type": "execute_result"
    }
   ],
   "source": [
    "location.find('i')"
   ]
  },
  {
   "cell_type": "code",
   "execution_count": 11,
   "id": "eb39eedc-bec8-4cd6-950e-1a0c26d72db1",
   "metadata": {},
   "outputs": [
    {
     "data": {
      "text/plain": [
       "'manali is beutiful'"
      ]
     },
     "execution_count": 11,
     "metadata": {},
     "output_type": "execute_result"
    }
   ],
   "source": [
    "location.lower()"
   ]
  },
  {
   "cell_type": "code",
   "execution_count": 13,
   "id": "c4442dbd-97b3-4656-b8d5-6639fd29fa24",
   "metadata": {},
   "outputs": [
    {
     "data": {
      "text/plain": [
       "1"
      ]
     },
     "execution_count": 13,
     "metadata": {},
     "output_type": "execute_result"
    }
   ],
   "source": [
    "#list\n",
    "numbers = [1,2,3,4,5]\n",
    "numbers[0]"
   ]
  },
  {
   "cell_type": "code",
   "execution_count": 14,
   "id": "0ca7f5ad-d56c-48f7-90bd-95c76968894b",
   "metadata": {},
   "outputs": [
    {
     "data": {
      "text/plain": [
       "5"
      ]
     },
     "execution_count": 14,
     "metadata": {},
     "output_type": "execute_result"
    }
   ],
   "source": [
    "numbers[4]"
   ]
  },
  {
   "cell_type": "code",
   "execution_count": 24,
   "id": "5edde296-8a1f-4904-8df6-ace812fb6780",
   "metadata": {},
   "outputs": [
    {
     "data": {
      "text/plain": [
       "[1, 2, 3, 4, 5, 6, 6]"
      ]
     },
     "execution_count": 24,
     "metadata": {},
     "output_type": "execute_result"
    }
   ],
   "source": [
    "numbers"
   ]
  },
  {
   "cell_type": "code",
   "execution_count": 35,
   "id": "5c295350-d1c5-420c-8782-0977afd4678c",
   "metadata": {},
   "outputs": [
    {
     "data": {
      "text/plain": [
       "[1, 2, 3, 4]"
      ]
     },
     "execution_count": 35,
     "metadata": {},
     "output_type": "execute_result"
    }
   ],
   "source": [
    "numbers.remove(5)\n",
    "numbers"
   ]
  },
  {
   "cell_type": "code",
   "execution_count": 36,
   "id": "4c0c92ca-c4aa-487d-a60f-5b489ad522fc",
   "metadata": {},
   "outputs": [
    {
     "data": {
      "text/plain": [
       "4"
      ]
     },
     "execution_count": 36,
     "metadata": {},
     "output_type": "execute_result"
    }
   ],
   "source": [
    "numbers.pop()"
   ]
  },
  {
   "cell_type": "code",
   "execution_count": 42,
   "id": "d25fd1b1-3bdb-4cf7-961f-debd73522e1b",
   "metadata": {},
   "outputs": [
    {
     "data": {
      "text/plain": [
       "[1, 2, 3, 5, 4, 4]"
      ]
     },
     "execution_count": 42,
     "metadata": {},
     "output_type": "execute_result"
    }
   ],
   "source": [
    "numbers.append(4)\n",
    "numbers"
   ]
  },
  {
   "cell_type": "code",
   "execution_count": 44,
   "id": "fde2ad22-be14-459f-9ff2-caeb1366de33",
   "metadata": {},
   "outputs": [
    {
     "data": {
      "text/plain": [
       "[5, 4, 4, 3, 2, 1]"
      ]
     },
     "execution_count": 44,
     "metadata": {},
     "output_type": "execute_result"
    }
   ],
   "source": [
    "numbers.reverse()\n",
    "numbers"
   ]
  },
  {
   "cell_type": "code",
   "execution_count": 52,
   "id": "8e0b7053-d872-44f7-850f-fbd7142e12e7",
   "metadata": {},
   "outputs": [
    {
     "data": {
      "text/plain": [
       "{'country': 'India', 'state': 'Delhi', 'Population': 100}"
      ]
     },
     "execution_count": 52,
     "metadata": {},
     "output_type": "execute_result"
    }
   ],
   "source": [
    "#Dictionaries-- key:value\n",
    "people = {\n",
    "    \"country\":\"India\",\n",
    "    \"state\":\"Delhi\",\n",
    "    \"Population\":50,\n",
    "    \"Population\": 100\n",
    "}\n",
    "people"
   ]
  },
  {
   "cell_type": "code",
   "execution_count": 53,
   "id": "ca638242-2442-416b-b526-7bd84a3a7a9b",
   "metadata": {},
   "outputs": [
    {
     "data": {
      "text/plain": [
       "100"
      ]
     },
     "execution_count": 53,
     "metadata": {},
     "output_type": "execute_result"
    }
   ],
   "source": [
    "people[\"Population\"]"
   ]
  },
  {
   "cell_type": "code",
   "execution_count": null,
   "id": "a38c0ec2-00a5-46f9-bfb8-b19f64624dab",
   "metadata": {},
   "outputs": [],
   "source": []
  },
  {
   "cell_type": "code",
   "execution_count": null,
   "id": "546ff98e-3b48-4f0f-94c6-fb5f39adc141",
   "metadata": {},
   "outputs": [],
   "source": []
  },
  {
   "cell_type": "code",
   "execution_count": null,
   "id": "94850dda-fcfb-4009-ac9b-aee0fee577e9",
   "metadata": {},
   "outputs": [],
   "source": []
  }
 ],
 "metadata": {
  "kernelspec": {
   "display_name": "Python 3",
   "language": "python",
   "name": "python3"
  },
  "language_info": {
   "codemirror_mode": {
    "name": "ipython",
    "version": 3
   },
   "file_extension": ".py",
   "mimetype": "text/x-python",
   "name": "python",
   "nbconvert_exporter": "python",
   "pygments_lexer": "ipython3",
   "version": "3.9.1"
  }
 },
 "nbformat": 4,
 "nbformat_minor": 5
}
